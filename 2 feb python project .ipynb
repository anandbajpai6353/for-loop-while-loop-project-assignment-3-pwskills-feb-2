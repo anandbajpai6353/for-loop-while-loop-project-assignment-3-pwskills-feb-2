{
 "cells": [
  {
   "cell_type": "markdown",
   "id": "10a074fd-61b9-408b-9582-0913afb918ff",
   "metadata": {},
   "source": [
    "Q1. Explain with an example each when to use a for loop and a while loop."
   ]
  },
  {
   "cell_type": "markdown",
   "id": "dcf48be9-2db6-4d40-b1c9-d92b4f492063",
   "metadata": {},
   "source": [
    "Here are examples of when to use a \"for\" loop and a \"while\" loop:\n",
    "\n",
    "When to use a \"for\" loop:\n",
    "Use a \"for\" loop when you have a specific iterable (such as a list, tuple, or string) and want to iterate over its elements one by one.\n",
    "Use a \"for\" loop when you know the number of iterations in advance or when you want to iterate a specific number of times.\n",
    "Example: Printing each character of a string using a \"for\" loop."
   ]
  },
  {
   "cell_type": "code",
   "execution_count": 1,
   "id": "b0d7fa6d-5a94-4a81-9dfd-07c86d4a3752",
   "metadata": {},
   "outputs": [
    {
     "name": "stdout",
     "output_type": "stream",
     "text": [
      "A\n",
      "n\n",
      "a\n",
      "n\n",
      "d\n",
      " \n",
      "B\n",
      "a\n",
      "j\n",
      "p\n",
      "a\n",
      "i\n"
     ]
    }
   ],
   "source": [
    "string = \"Anand Bajpai\"\n",
    "for i in string:\n",
    "    print(i)\n"
   ]
  },
  {
   "cell_type": "markdown",
   "id": "d87cd6a1-b222-4197-a7e8-983dc1af1a34",
   "metadata": {},
   "source": [
    "In this example, the \"for\" loop iterates over each character in the string and prints it. The loop automatically handles iterating through the string without explicitly managing an index or condition."
   ]
  },
  {
   "cell_type": "markdown",
   "id": "41a10048-a950-4b81-9caf-30202151d2d4",
   "metadata": {},
   "source": [
    "When to use a \"while\" loop:\n",
    "Use a \"while\" loop when you want to repeat a block of code as long as a specific condition is true.\n",
    "Use a \"while\" loop when you don't know the exact number of iterations in advance or when you want to continue looping until a certain condition is met.\n",
    "Example: Printing numbers from 1 to 10 using a \"while\" loop."
   ]
  },
  {
   "cell_type": "code",
   "execution_count": 3,
   "id": "88e3851e-d44e-4739-bdd8-71da8bbd7c20",
   "metadata": {},
   "outputs": [
    {
     "name": "stdout",
     "output_type": "stream",
     "text": [
      "11\n",
      "12\n",
      "13\n",
      "14\n",
      "15\n",
      "16\n",
      "17\n",
      "18\n",
      "19\n",
      "20\n"
     ]
    }
   ],
   "source": [
    "num = 11\n",
    "while num <= 20:\n",
    "    print(num)\n",
    "    num += 1\n"
   ]
  },
  {
   "cell_type": "markdown",
   "id": "13afa179-17ba-4a99-b1e0-28fdf1728360",
   "metadata": {},
   "source": [
    "In this example, the \"while\" loop continues as long as the condition num <= 20 is true. It prints the value of num and increments it by 1 in each iteration.\n",
    "\n",
    "In summary, use a for loop when you have a specific iterable or know the number of iterations, and use a \"while\" loop when you want to repeat a block of code based on a specific condition."
   ]
  },
  {
   "cell_type": "raw",
   "id": "8faa644a-897f-4f77-b632-c160deb794f0",
   "metadata": {},
   "source": []
  },
  {
   "cell_type": "markdown",
   "id": "878a32b8-85a3-4b41-94ca-c8ec0055732c",
   "metadata": {},
   "source": [
    "Q2.  Write a python program to print the sum and product of the first 10 natural numbers using for \n",
    "and while loop."
   ]
  },
  {
   "cell_type": "markdown",
   "id": "c376f959-dd5f-467a-9044-29a917cf1342",
   "metadata": {},
   "source": [
    "Here's the Python program that calculates the sum and product of the first 10 natural numbers using both for and while loops:"
   ]
  },
  {
   "cell_type": "code",
   "execution_count": 13,
   "id": "d89996cc-d671-4a7d-8848-c0e3114dd60c",
   "metadata": {},
   "outputs": [
    {
     "name": "stdout",
     "output_type": "stream",
     "text": [
      "Using for loop:\n",
      "Sum: 10\n",
      "Product: 24\n"
     ]
    }
   ],
   "source": [
    "# Using for loop to calculate the sum and product of the first 10 natural numbers\n",
    "numbers = range(1, 5)\n",
    "sum_result = 0\n",
    "product_result = 1\n",
    "\n",
    "for num in numbers:\n",
    "    sum_result += num\n",
    "    product_result *= num\n",
    "\n",
    "print(\"Using for loop:\")\n",
    "print(\"Sum:\", sum_result)\n",
    "print(\"Product:\", product_result)\n"
   ]
  },
  {
   "cell_type": "code",
   "execution_count": 16,
   "id": "a78b133a-6664-44a6-bb24-ae2481e77e38",
   "metadata": {},
   "outputs": [
    {
     "name": "stdout",
     "output_type": "stream",
     "text": [
      "\n",
      "Using while loop:\n",
      "Sum: 10\n",
      "Product: 24\n"
     ]
    }
   ],
   "source": [
    "# Using while loop to calculate the sum and product of the first 10 natural numbers\n",
    "number = 1\n",
    "sum_result = 0\n",
    "product_result = 1\n",
    "\n",
    "while number <= 4:\n",
    "    sum_result += number\n",
    "    product_result *= number\n",
    "    number += 1\n",
    "\n",
    "print(\"\\nUsing while loop:\")\n",
    "print(\"Sum:\", sum_result)\n",
    "print(\"Product:\", product_result)\n"
   ]
  },
  {
   "cell_type": "raw",
   "id": "24ac2be8-cd14-4256-abd6-1f54d58fc150",
   "metadata": {},
   "source": []
  },
  {
   "cell_type": "markdown",
   "id": "a83bf001-b307-4b3a-a554-6cfa93fffebb",
   "metadata": {},
   "source": [
    "Q3. Create a python program to compute the electricity bill for a household.\n",
    "\n",
    "The per-unit charges in rupees are as follows: For the first 100 units, the user will be charged Rs. 4.5 per \n",
    "unit, for the next 100 units, the user will be charged Rs. 6 per unit, and for the next 100 units, the user will \n",
    "be charged Rs. 10 per unit, After 300 units and above the user will be charged Rs. 20 per unit.\n",
    "\n",
    "\n",
    "You are required to take the units of electricity consumed in a month from the user as input.\n",
    "\n",
    "\n",
    "Your program must pass this test case: when the unit of electricity consumed by the user in a month is \n",
    "310, the total electricity bill should be 2250"
   ]
  },
  {
   "cell_type": "markdown",
   "id": "acdab57c-d4ec-4935-ac5e-fcd8abcb914e",
   "metadata": {},
   "source": [
    "Python program that calculates the electricity bill for a household based on the given rates:"
   ]
  },
  {
   "cell_type": "code",
   "execution_count": 24,
   "id": "2993fde5-ae7f-40c8-9ae5-0ecc0db46110",
   "metadata": {},
   "outputs": [
    {
     "name": "stdin",
     "output_type": "stream",
     "text": [
      "Enter the units consumed:  310\n"
     ]
    },
    {
     "name": "stdout",
     "output_type": "stream",
     "text": [
      "Electricity bill: Rs. 2250.0\n"
     ]
    }
   ],
   "source": [
    "# Constants for electricity rates\n",
    "RATE_1 = 4.5  # Rate for the first 100 units\n",
    "RATE_2 = 6.0  # Rate for the next 100 units\n",
    "RATE_3 = 10.0  # Rate for the next 100 units\n",
    "RATE_4 = 20.0  # Rate for units above 300\n",
    "\n",
    "# Function to calculate electricity bill\n",
    "def calculate_electricity_bill(units):\n",
    "    total_bill = 0.0\n",
    "\n",
    "    if units <= 100:\n",
    "        total_bill = units * RATE_1\n",
    "    elif units <= 200:\n",
    "        total_bill = 100 * RATE_1 + (units - 100) * RATE_2\n",
    "    elif units <= 300:\n",
    "        total_bill = 100 * RATE_1 + 100 * RATE_2 + (units - 200) * RATE_3\n",
    "    else:\n",
    "        total_bill = 100 * RATE_1 + 100 * RATE_2 + 100 * RATE_3 + (units - 300) * RATE_4\n",
    "\n",
    "    return total_bill\n",
    "\n",
    "# Getting input for units consumed from the user\n",
    "units_consumed = int(input(\"Enter the units consumed: \"))\n",
    "\n",
    "# Calculate and display the electricity bill\n",
    "bill = calculate_electricity_bill(units_consumed)\n",
    "print(\"Electricity bill: Rs.\", bill)\n"
   ]
  },
  {
   "cell_type": "raw",
   "id": "174765b2-7699-44a7-8ffd-6147d4feb010",
   "metadata": {},
   "source": []
  },
  {
   "cell_type": "markdown",
   "id": "a7b0b3d3-a162-46f6-884d-bda2633bb455",
   "metadata": {},
   "source": [
    "Q4. Create a list of numbers from 1 to 100. Use for loop and while loop to calculate the cube of each \n",
    "number and if the cube of that number is divisible by 4 or 5 then append that number in a list and print \n",
    "that list."
   ]
  },
  {
   "cell_type": "markdown",
   "id": "5b96a145-b3e6-4337-822e-9da3cf901633",
   "metadata": {},
   "source": [
    "program that creates a list of numbers from 1 to 100, calculates the cube of each number using both for and while loops, and appends the numbers whose cubes are divisible by 4 or 5 into a separate list:\n",
    "\n"
   ]
  },
  {
   "cell_type": "markdown",
   "id": "bd7726ed-549b-463b-8f17-183628b1650f",
   "metadata": {},
   "source": [
    "Using for loop:"
   ]
  },
  {
   "cell_type": "code",
   "execution_count": 25,
   "id": "f70dc3a2-b7be-4083-933f-f84ee8517684",
   "metadata": {},
   "outputs": [
    {
     "name": "stdout",
     "output_type": "stream",
     "text": [
      "Using for loop:\n",
      "[2, 4, 5, 6, 8, 10, 12, 14, 15, 16, 18, 20, 22, 24, 25, 26, 28, 30, 32, 34, 35, 36, 38, 40, 42, 44, 45, 46, 48, 50, 52, 54, 55, 56, 58, 60, 62, 64, 65, 66, 68, 70, 72, 74, 75, 76, 78, 80, 82, 84, 85, 86, 88, 90, 92, 94, 95, 96, 98, 100]\n"
     ]
    }
   ],
   "source": [
    "# Using for loop to calculate the cubes and filter the numbers divisible by 4 or 5\n",
    "numbers = list(range(1, 101))\n",
    "cubes_divisible_by_4_or_5 = []\n",
    "\n",
    "for num in numbers:\n",
    "    cube = num ** 3\n",
    "    if cube % 4 == 0 or cube % 5 == 0:\n",
    "        cubes_divisible_by_4_or_5.append(num)\n",
    "\n",
    "print(\"Using for loop:\")\n",
    "print(cubes_divisible_by_4_or_5)\n"
   ]
  },
  {
   "cell_type": "code",
   "execution_count": 27,
   "id": "59bc8710-5a46-43f7-aa0f-3f93465d03b9",
   "metadata": {},
   "outputs": [
    {
     "name": "stdout",
     "output_type": "stream",
     "text": [
      "\n",
      "Using while loop:\n",
      "[2, 4, 5, 6, 8, 10, 12, 14, 15, 16, 18, 20, 22, 24, 25, 26, 28, 30, 32, 34, 35, 36, 38, 40, 42, 44, 45, 46, 48, 50, 52, 54, 55, 56, 58, 60, 62, 64, 65, 66, 68, 70, 72, 74, 75, 76, 78, 80, 82, 84, 85, 86, 88, 90, 92, 94, 95, 96, 98, 100]\n"
     ]
    }
   ],
   "source": [
    "# Using while loop to calculate the cubes and filter the numbers divisible by 4 or 5\n",
    "number = 1\n",
    "cubes_divisible_by_4_or_5 = []\n",
    "\n",
    "while number <= 100:\n",
    "    cube = number ** 3\n",
    "    if cube % 4 == 0 or cube % 5 == 0:\n",
    "        cubes_divisible_by_4_or_5.append(number)\n",
    "    number += 1\n",
    "\n",
    "print(\"\\nUsing while loop:\")\n",
    "print(cubes_divisible_by_4_or_5)\n"
   ]
  },
  {
   "cell_type": "raw",
   "id": "952f2570-1982-41fe-ae44-74dd2a880d59",
   "metadata": {},
   "source": []
  },
  {
   "cell_type": "markdown",
   "id": "5256887d-0fd7-4627-80d8-0ce8aee238c7",
   "metadata": {},
   "source": [
    "Q5.  Write a program to filter count vowels in the below-given string.\n",
    "\n",
    "string = \"I want to become a data scientist\""
   ]
  },
  {
   "cell_type": "code",
   "execution_count": 30,
   "id": "07cf4370-481b-42cc-9980-dc79d11dd9ad",
   "metadata": {},
   "outputs": [
    {
     "name": "stdout",
     "output_type": "stream",
     "text": [
      "Number of vowels: 12\n"
     ]
    }
   ],
   "source": [
    "vowels = 'aeiouAEIOU'\n",
    "vowel_count = 0\n",
    "string = \"I want to become a data scientist\"\n",
    "\n",
    "for char in string:\n",
    "    if char in vowels:\n",
    "        vowel_count += 1\n",
    "\n",
    "print(\"Number of vowels:\", vowel_count)\n"
   ]
  },
  {
   "cell_type": "code",
   "execution_count": null,
   "id": "ccaab998-c8f7-4a77-a3ee-443482be331d",
   "metadata": {},
   "outputs": [],
   "source": []
  }
 ],
 "metadata": {
  "kernelspec": {
   "display_name": "Python 3 (ipykernel)",
   "language": "python",
   "name": "python3"
  },
  "language_info": {
   "codemirror_mode": {
    "name": "ipython",
    "version": 3
   },
   "file_extension": ".py",
   "mimetype": "text/x-python",
   "name": "python",
   "nbconvert_exporter": "python",
   "pygments_lexer": "ipython3",
   "version": "3.10.8"
  }
 },
 "nbformat": 4,
 "nbformat_minor": 5
}
